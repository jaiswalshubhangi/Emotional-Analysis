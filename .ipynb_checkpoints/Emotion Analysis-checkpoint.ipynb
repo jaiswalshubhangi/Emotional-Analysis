{
 "cells": [
  {
   "cell_type": "code",
   "execution_count": 1,
   "id": "a3d4853a",
   "metadata": {},
   "outputs": [
    {
     "data": {
      "text/html": [
       "<div>\n",
       "<style scoped>\n",
       "    .dataframe tbody tr th:only-of-type {\n",
       "        vertical-align: middle;\n",
       "    }\n",
       "\n",
       "    .dataframe tbody tr th {\n",
       "        vertical-align: top;\n",
       "    }\n",
       "\n",
       "    .dataframe thead th {\n",
       "        text-align: right;\n",
       "    }\n",
       "</style>\n",
       "<table border=\"1\" class=\"dataframe\">\n",
       "  <thead>\n",
       "    <tr style=\"text-align: right;\">\n",
       "      <th></th>\n",
       "      <th>Input</th>\n",
       "      <th>Sentiment</th>\n",
       "    </tr>\n",
       "  </thead>\n",
       "  <tbody>\n",
       "    <tr>\n",
       "      <th>0</th>\n",
       "      <td>i didnt feel humiliated</td>\n",
       "      <td>sadness</td>\n",
       "    </tr>\n",
       "    <tr>\n",
       "      <th>1</th>\n",
       "      <td>i can go from feeling so hopeless to so damned...</td>\n",
       "      <td>sadness</td>\n",
       "    </tr>\n",
       "    <tr>\n",
       "      <th>2</th>\n",
       "      <td>im grabbing a minute to post i feel greedy wrong</td>\n",
       "      <td>anger</td>\n",
       "    </tr>\n",
       "    <tr>\n",
       "      <th>3</th>\n",
       "      <td>i am ever feeling nostalgic about the fireplac...</td>\n",
       "      <td>love</td>\n",
       "    </tr>\n",
       "    <tr>\n",
       "      <th>4</th>\n",
       "      <td>i am feeling grouchy</td>\n",
       "      <td>anger</td>\n",
       "    </tr>\n",
       "  </tbody>\n",
       "</table>\n",
       "</div>"
      ],
      "text/plain": [
       "                                               Input Sentiment\n",
       "0                            i didnt feel humiliated   sadness\n",
       "1  i can go from feeling so hopeless to so damned...   sadness\n",
       "2   im grabbing a minute to post i feel greedy wrong     anger\n",
       "3  i am ever feeling nostalgic about the fireplac...      love\n",
       "4                               i am feeling grouchy     anger"
      ]
     },
     "execution_count": 1,
     "metadata": {},
     "output_type": "execute_result"
    }
   ],
   "source": [
    "# 1->\n",
    "\n",
    "# Import for pandas\n",
    "import pandas as pd\n",
    "\n",
    "# Read the training dataset where ; is the separator and label the columns as Input and Sentiment\n",
    "df_train = pd.read_csv('dataset/train.txt', header=None, sep=';', names=['Input','Sentiment'], encoding='utf-8')\n",
    "# Display the header\n",
    "df_train.head()"
   ]
  },
  {
   "cell_type": "code",
   "execution_count": 2,
   "id": "546b9094",
   "metadata": {},
   "outputs": [
    {
     "data": {
      "text/html": [
       "<div>\n",
       "<style scoped>\n",
       "    .dataframe tbody tr th:only-of-type {\n",
       "        vertical-align: middle;\n",
       "    }\n",
       "\n",
       "    .dataframe tbody tr th {\n",
       "        vertical-align: top;\n",
       "    }\n",
       "\n",
       "    .dataframe thead th {\n",
       "        text-align: right;\n",
       "    }\n",
       "</style>\n",
       "<table border=\"1\" class=\"dataframe\">\n",
       "  <thead>\n",
       "    <tr style=\"text-align: right;\">\n",
       "      <th></th>\n",
       "      <th>Input</th>\n",
       "      <th>Sentiment</th>\n",
       "    </tr>\n",
       "  </thead>\n",
       "  <tbody>\n",
       "    <tr>\n",
       "      <th>0</th>\n",
       "      <td>im feeling rather rotten so im not very ambiti...</td>\n",
       "      <td>sadness</td>\n",
       "    </tr>\n",
       "    <tr>\n",
       "      <th>1</th>\n",
       "      <td>im updating my blog because i feel shitty</td>\n",
       "      <td>sadness</td>\n",
       "    </tr>\n",
       "    <tr>\n",
       "      <th>2</th>\n",
       "      <td>i never make her separate from me because i do...</td>\n",
       "      <td>sadness</td>\n",
       "    </tr>\n",
       "    <tr>\n",
       "      <th>3</th>\n",
       "      <td>i left with my bouquet of red and yellow tulip...</td>\n",
       "      <td>joy</td>\n",
       "    </tr>\n",
       "    <tr>\n",
       "      <th>4</th>\n",
       "      <td>i was feeling a little vain when i did this one</td>\n",
       "      <td>sadness</td>\n",
       "    </tr>\n",
       "  </tbody>\n",
       "</table>\n",
       "</div>"
      ],
      "text/plain": [
       "                                               Input Sentiment\n",
       "0  im feeling rather rotten so im not very ambiti...   sadness\n",
       "1          im updating my blog because i feel shitty   sadness\n",
       "2  i never make her separate from me because i do...   sadness\n",
       "3  i left with my bouquet of red and yellow tulip...       joy\n",
       "4    i was feeling a little vain when i did this one   sadness"
      ]
     },
     "execution_count": 2,
     "metadata": {},
     "output_type": "execute_result"
    }
   ],
   "source": [
    "# 2->\n",
    "\n",
    "# Read the testing dataset where ; is the separator and label the columns as Input and Sentiment\n",
    "df_test = pd.read_csv('dataset/test.txt', header = None, sep =';', names = ['Input','Sentiment'],encoding='utf-8')\n",
    "# Display the header\n",
    "df_test.head()"
   ]
  },
  {
   "cell_type": "code",
   "execution_count": 3,
   "id": "65630df0",
   "metadata": {},
   "outputs": [
    {
     "data": {
      "text/plain": [
       "array(['sadness', 'anger', 'love', 'surprise', 'fear', 'joy'],\n",
       "      dtype=object)"
      ]
     },
     "execution_count": 3,
     "metadata": {},
     "output_type": "execute_result"
    }
   ],
   "source": [
    "# 3->\n",
    "\n",
    "# Display the unique values for column Sentiment\n",
    "df_train.Sentiment.unique()"
   ]
  },
  {
   "cell_type": "code",
   "execution_count": 4,
   "id": "200e75db",
   "metadata": {},
   "outputs": [
    {
     "data": {
      "image/png": "[encoded data removed]",
      "text/plain": [
       "<Figure size 432x288 with 1 Axes>"
      ]
     },
     "metadata": {
      "needs_background": "light"
     },
     "output_type": "display_data"
    }
   ],
   "source": [
    "# 4->\n",
    "\n",
    "# Import for seaborn\n",
    "import seaborn as sns\n",
    "# Countplot for Sentiment column in the training dataset\n",
    "sns.countplot(x=\"Sentiment\",data=df_train);"
   ]
  },
  {
   "cell_type": "code",
   "execution_count": 5,
   "id": "43e240aa",
   "metadata": {},
   "outputs": [
    {
     "data": {
      "image/png": "[encoded data removed]",
      "text/plain": [
       "<Figure size 432x288 with 1 Axes>"
      ]
     },
     "metadata": {},
     "output_type": "display_data"
    }
   ],
   "source": [
    "# 5->\n",
    "\n",
    "# Group training data by Sentiment and get the counts\n",
    "data = df_train.groupby(\"Sentiment\")[\"Input\"].count()\n",
    "# Plot a pie chart of the data obtained\n",
    "data.plot.pie(autopct=\"%.1f%%\");"
   ]
  },
  {
   "cell_type": "code",
   "execution_count": 6,
   "id": "9acf8516",
   "metadata": {},
   "outputs": [],
   "source": [
    "# 6->\n",
    "\n",
    "# Import for Numpy\n",
    "import numpy as np\n",
    "# Display unique values for column Sentiment in the training dataset \n",
    "np.unique(df_train['Sentiment'])\n",
    "# Perform Ordinal Encoding - assign integers to label based on categories\n",
    "df_train['Sentiment'].replace(\"anger\",0,inplace = True)\n",
    "df_train['Sentiment'].replace(\"fear\",1,inplace = True)\n",
    "df_train['Sentiment'].replace(\"joy\",2,inplace = True)\n",
    "df_train['Sentiment'].replace(\"love\",3,inplace = True)\n",
    "df_train['Sentiment'].replace(\"sadness\",4,inplace = True)\n",
    "df_train['Sentiment'].replace(\"surprise\",5,inplace = True)"
   ]
  },
  {
   "cell_type": "code",
   "execution_count": 7,
   "id": "f9fa2563",
   "metadata": {},
   "outputs": [
    {
     "data": {
      "text/html": [
       "<div>\n",
       "<style scoped>\n",
       "    .dataframe tbody tr th:only-of-type {\n",
       "        vertical-align: middle;\n",
       "    }\n",
       "\n",
       "    .dataframe tbody tr th {\n",
       "        vertical-align: top;\n",
       "    }\n",
       "\n",
       "    .dataframe thead th {\n",
       "        text-align: right;\n",
       "    }\n",
       "</style>\n",
       "<table border=\"1\" class=\"dataframe\">\n",
       "  <thead>\n",
       "    <tr style=\"text-align: right;\">\n",
       "      <th></th>\n",
       "      <th>Input</th>\n",
       "      <th>Sentiment</th>\n",
       "    </tr>\n",
       "  </thead>\n",
       "  <tbody>\n",
       "    <tr>\n",
       "      <th>0</th>\n",
       "      <td>i didnt feel humiliated</td>\n",
       "      <td>4</td>\n",
       "    </tr>\n",
       "    <tr>\n",
       "      <th>1</th>\n",
       "      <td>i can go from feeling so hopeless to so damned...</td>\n",
       "      <td>4</td>\n",
       "    </tr>\n",
       "    <tr>\n",
       "      <th>2</th>\n",
       "      <td>im grabbing a minute to post i feel greedy wrong</td>\n",
       "      <td>0</td>\n",
       "    </tr>\n",
       "    <tr>\n",
       "      <th>3</th>\n",
       "      <td>i am ever feeling nostalgic about the fireplac...</td>\n",
       "      <td>3</td>\n",
       "    </tr>\n",
       "    <tr>\n",
       "      <th>4</th>\n",
       "      <td>i am feeling grouchy</td>\n",
       "      <td>0</td>\n",
       "    </tr>\n",
       "  </tbody>\n",
       "</table>\n",
       "</div>"
      ],
      "text/plain": [
       "                                               Input  Sentiment\n",
       "0                            i didnt feel humiliated          4\n",
       "1  i can go from feeling so hopeless to so damned...          4\n",
       "2   im grabbing a minute to post i feel greedy wrong          0\n",
       "3  i am ever feeling nostalgic about the fireplac...          3\n",
       "4                               i am feeling grouchy          0"
      ]
     },
     "execution_count": 7,
     "metadata": {},
     "output_type": "execute_result"
    }
   ],
   "source": [
    "# 7->\n",
    "\n",
    "# Display the header for training data\n",
    "df_train.head()"
   ]
  },
  {
   "cell_type": "code",
   "execution_count": 8,
   "id": "35a1a3f3",
   "metadata": {},
   "outputs": [
    {
     "data": {
      "image/png": "[encoded data removed]",
      "text/plain": [
       "<Figure size 432x288 with 1 Axes>"
      ]
     },
     "metadata": {
      "needs_background": "light"
     },
     "output_type": "display_data"
    }
   ],
   "source": [
    "# 8->\n",
    "\n",
    "# Violinplot for Sentiment column in the training dataset\n",
    "sns.violinplot(x=\"Sentiment\",data=df_train);"
   ]
  },
  {
   "cell_type": "code",
   "execution_count": 9,
   "id": "ffe4cb4f",
   "metadata": {},
   "outputs": [
    {
     "data": {
      "text/plain": [
       "0        4\n",
       "1        4\n",
       "2        0\n",
       "3        3\n",
       "4        0\n",
       "        ..\n",
       "15995    4\n",
       "15996    4\n",
       "15997    2\n",
       "15998    0\n",
       "15999    4\n",
       "Name: Sentiment, Length: 16000, dtype: int64"
      ]
     },
     "execution_count": 9,
     "metadata": {},
     "output_type": "execute_result"
    }
   ],
   "source": [
    "# 9->\n",
    "\n",
    "# Display the column Sentiment from training data\n",
    "df_train.Sentiment"
   ]
  },
  {
   "cell_type": "code",
   "execution_count": 10,
   "id": "a8e8b12d",
   "metadata": {},
   "outputs": [
    {
     "data": {
      "text/plain": [
       "Input        0\n",
       "Sentiment    0\n",
       "dtype: int64"
      ]
     },
     "execution_count": 10,
     "metadata": {},
     "output_type": "execute_result"
    }
   ],
   "source": [
    "# 10->\n",
    "\n",
    "# Find the total rows with null values in training data\n",
    "df_train.isnull().sum()"
   ]
  },
  {
   "cell_type": "code",
   "execution_count": 11,
   "id": "5c3e7371",
   "metadata": {},
   "outputs": [
    {
     "name": "stdout",
     "output_type": "stream",
     "text": [
      "<class 'pandas.core.frame.DataFrame'>\n",
      "RangeIndex: 16000 entries, 0 to 15999\n",
      "Data columns (total 2 columns):\n",
      " #   Column     Non-Null Count  Dtype \n",
      "---  ------     --------------  ----- \n",
      " 0   Input      16000 non-null  object\n",
      " 1   Sentiment  16000 non-null  int64 \n",
      "dtypes: int64(1), object(1)\n",
      "memory usage: 250.1+ KB\n"
     ]
    }
   ],
   "source": [
    "# 11->\n",
    "\n",
    "# Information on training data\n",
    "df_train.info()"
   ]
  },
  {
   "cell_type": "code",
   "execution_count": 12,
   "id": "281ffb8e",
   "metadata": {},
   "outputs": [
    {
     "data": {
      "text/html": [
       "<div>\n",
       "<style scoped>\n",
       "    .dataframe tbody tr th:only-of-type {\n",
       "        vertical-align: middle;\n",
       "    }\n",
       "\n",
       "    .dataframe tbody tr th {\n",
       "        vertical-align: top;\n",
       "    }\n",
       "\n",
       "    .dataframe thead th {\n",
       "        text-align: right;\n",
       "    }\n",
       "</style>\n",
       "<table border=\"1\" class=\"dataframe\">\n",
       "  <thead>\n",
       "    <tr style=\"text-align: right;\">\n",
       "      <th></th>\n",
       "      <th>Sentiment</th>\n",
       "    </tr>\n",
       "  </thead>\n",
       "  <tbody>\n",
       "    <tr>\n",
       "      <th>count</th>\n",
       "      <td>16000.000000</td>\n",
       "    </tr>\n",
       "    <tr>\n",
       "      <th>mean</th>\n",
       "      <td>2.381063</td>\n",
       "    </tr>\n",
       "    <tr>\n",
       "      <th>std</th>\n",
       "      <td>1.444121</td>\n",
       "    </tr>\n",
       "    <tr>\n",
       "      <th>min</th>\n",
       "      <td>0.000000</td>\n",
       "    </tr>\n",
       "    <tr>\n",
       "      <th>25%</th>\n",
       "      <td>1.000000</td>\n",
       "    </tr>\n",
       "    <tr>\n",
       "      <th>50%</th>\n",
       "      <td>2.000000</td>\n",
       "    </tr>\n",
       "    <tr>\n",
       "      <th>75%</th>\n",
       "      <td>4.000000</td>\n",
       "    </tr>\n",
       "    <tr>\n",
       "      <th>max</th>\n",
       "      <td>5.000000</td>\n",
       "    </tr>\n",
       "  </tbody>\n",
       "</table>\n",
       "</div>"
      ],
      "text/plain": [
       "          Sentiment\n",
       "count  16000.000000\n",
       "mean       2.381063\n",
       "std        1.444121\n",
       "min        0.000000\n",
       "25%        1.000000\n",
       "50%        2.000000\n",
       "75%        4.000000\n",
       "max        5.000000"
      ]
     },
     "execution_count": 12,
     "metadata": {},
     "output_type": "execute_result"
    }
   ],
   "source": [
    "# 12->\n",
    "\n",
    "# Description of training data\n",
    "df_train.describe()"
   ]
  },
  {
   "cell_type": "code",
   "execution_count": 13,
   "id": "4f4a7b1b",
   "metadata": {},
   "outputs": [
    {
     "name": "stdout",
     "output_type": "stream",
     "text": [
      "(16000,) (16000,)\n"
     ]
    }
   ],
   "source": [
    "# 13->\n",
    "\n",
    "# Use column Input as independent variable\n",
    "x = df_train[\"Input\"]\n",
    "# Use column Sentiment as dependent variable\n",
    "y = df_train[\"Sentiment\"]\n",
    "# Display the dimensions of independent and dependent variables\n",
    "print(x.shape,y.shape)"
   ]
  },
  {
   "cell_type": "code",
   "execution_count": 14,
   "id": "6e3f84a4",
   "metadata": {},
   "outputs": [
    {
     "data": {
      "text/plain": [
       "'i didnt feel humiliated'"
      ]
     },
     "execution_count": 14,
     "metadata": {},
     "output_type": "execute_result"
    }
   ],
   "source": [
    "# 14->\n",
    "\n",
    "# Copy the contents of x to message\n",
    "message = x.copy()\n",
    "# Set vocabulary size to 10000\n",
    "voc_size = 10000\n",
    "# Display the first row of message - dependent variable\n",
    "message[0]"
   ]
  },
  {
   "cell_type": "code",
   "execution_count": 15,
   "id": "2ec3e5da",
   "metadata": {},
   "outputs": [],
   "source": [
    "# 15->\n",
    "\n",
    "# Import Regular Expressions\n",
    "import re\n",
    "# Import NLTK\n",
    "import nltk\n",
    "# Import stopwords from nltk.corpus\n",
    "from nltk.corpus import stopwords\n",
    "# Import PorterStemmer from nltk.stem.porter\n",
    "from nltk.stem.porter import PorterStemmer"
   ]
  },
  {
   "cell_type": "code",
   "execution_count": 16,
   "id": "2a0bea64",
   "metadata": {},
   "outputs": [
    {
     "data": {
      "text/plain": [
       "'didnt feel humili'"
      ]
     },
     "execution_count": 16,
     "metadata": {},
     "output_type": "execute_result"
    }
   ],
   "source": [
    "# 16->\n",
    "\n",
    "# Create a new Porter stemmer\n",
    "ps = PorterStemmer()\n",
    "# Create a empty list\n",
    "corpus = []\n",
    "# Iterate over all messages\n",
    "for i in range(0, len(message)):\n",
    "    # Replace non-numeric characters with empty space and save as review\n",
    "    review = re.sub('[^a-zA-Z]', ' ', message[i])\n",
    "    # Convert to lower case\n",
    "    review = review.lower()\n",
    "    # Splits a string into a list\n",
    "    review = review.split()\n",
    "    # Perform stemming on non-stop words\n",
    "    review = [ps.stem(word) for word in review if not word in stopwords.words('english')]\n",
    "    # Takes all items in an iterable and joins them into one string\n",
    "    review = ' '.join(review)\n",
    "    # Append string to a list\n",
    "    corpus.append(review)\n",
    "# Display first element from the list\n",
    "corpus[0]    "
   ]
  },
  {
   "cell_type": "code",
   "execution_count": 17,
   "id": "90146b37",
   "metadata": {},
   "outputs": [
    {
     "data": {
      "text/plain": [
       "[8790, 2208, 932]"
      ]
     },
     "execution_count": 17,
     "metadata": {},
     "output_type": "execute_result"
    }
   ],
   "source": [
    "# 17->\n",
    "\n",
    "# Import keras from tensorflow \n",
    "from tensorflow import keras\n",
    "# Import One Hot Encoding from keras\n",
    "from keras_preprocessing.text import one_hot\n",
    "# Replace the elements with their one hot encoded characters of size voc_size\n",
    "one_hot_representation = [one_hot(words,voc_size) for words in corpus]\n",
    "\n",
    "# Display the one hot encoding of first element from the list\n",
    "one_hot_representation[0]"
   ]
  },
  {
   "cell_type": "code",
   "execution_count": 18,
   "id": "1fdf2352",
   "metadata": {},
   "outputs": [
    {
     "data": {
      "text/plain": [
       "array([   0,    0,    0,    0,    0,    0,    0,    0,    0,    0,    0,\n",
       "          0,    0,    0,    0,    0,    0, 8790, 2208,  932])"
      ]
     },
     "execution_count": 18,
     "metadata": {},
     "output_type": "execute_result"
    }
   ],
   "source": [
    "# 18->\n",
    "\n",
    "# Import pad_sequences from keras preprocessing\n",
    "from keras_preprocessing.sequence import pad_sequences\n",
    "# Set sentence length to 20\n",
    "sent_length = 20\n",
    "# Pre-pad the one hot encoding to make it of length sent_length\n",
    "embedded_doc = pad_sequences(one_hot_representation,padding='pre',maxlen=sent_length)\n",
    "# Display the padded sequence for first element from the list\n",
    "embedded_doc[0]"
   ]
  },
  {
   "cell_type": "code",
   "execution_count": 19,
   "id": "baba1376",
   "metadata": {},
   "outputs": [
    {
     "name": "stdout",
     "output_type": "stream",
     "text": [
      "Model: \"sequential\"\n",
      "_________________________________________________________________\n",
      " Layer (type)                Output Shape              Param #   \n",
      "=================================================================\n",
      " embedding (Embedding)       (None, 20, 40)            400000    \n",
      "                                                                 \n",
      " conv1d (Conv1D)             (None, 18, 256)           30976     \n",
      "                                                                 \n",
      " global_max_pooling1d (Globa  (None, 256)              0         \n",
      " lMaxPooling1D)                                                  \n",
      "                                                                 \n",
      " dense (Dense)               (None, 256)               65792     \n",
      "                                                                 \n",
      " dense_1 (Dense)             (None, 1)                 257       \n",
      "                                                                 \n",
      "=================================================================\n",
      "Total params: 497,025\n",
      "Trainable params: 497,025\n",
      "Non-trainable params: 0\n",
      "_________________________________________________________________\n"
     ]
    }
   ],
   "source": [
    "# 19->\n",
    "\n",
    "# Import Sequential from keras.models\n",
    "from keras.models import Sequential\n",
    "# Import Embedding, Dense, Dropout, LSTM, Bidirectional, Conv1D, GlobalMaxPooling1D frpm keras.layers\n",
    "from keras.layers import Embedding, Dense, Dropout, LSTM, Bidirectional, Conv1D, GlobalMaxPooling1D\n",
    "# Set dimension to 40\n",
    "dimension = 40\n",
    "# Convolution\n",
    "kernel_size = 3\n",
    "filters = 256\n",
    "\n",
    "model = Sequential()\n",
    "model.add(Embedding(voc_size,dimension,input_length=sent_length))\n",
    "model.add(Conv1D(filters, kernel_size, activation='relu'))\n",
    "model.add(GlobalMaxPooling1D())\n",
    "#model.add(Bidirectional(LSTM(100)))\n",
    "model.add(Dense(256, activation='sigmoid'))\n",
    "model.add(Dense(1,activation='relu'))\n",
    "\n",
    "model.compile(loss='categorical_crossentropy',optimizer='adam',metrics=['accuracy'])\n",
    "model.summary()"
   ]
  },
  {
   "cell_type": "code",
   "execution_count": 20,
   "id": "22a5d007",
   "metadata": {},
   "outputs": [
    {
     "name": "stdout",
     "output_type": "stream",
     "text": [
      "Model: \"sequential_1\"\n",
      "_________________________________________________________________\n",
      " Layer (type)                Output Shape              Param #   \n",
      "=================================================================\n",
      " embedding_1 (Embedding)     (None, 20, 40)            400000    \n",
      "                                                                 \n",
      " bidirectional (Bidirectiona  (None, 200)              112800    \n",
      " l)                                                              \n",
      "                                                                 \n",
      " dense_2 (Dense)             (None, 1)                 201       \n",
      "                                                                 \n",
      "=================================================================\n",
      "Total params: 513,001\n",
      "Trainable params: 513,001\n",
      "Non-trainable params: 0\n",
      "_________________________________________________________________\n"
     ]
    }
   ],
   "source": [
    "# 20->\n",
    "\n",
    "from keras.models import Sequential\n",
    "from keras.layers import Embedding,Dense,Dropout,LSTM,Bidirectional\n",
    "dimension = 40\n",
    "model = Sequential()\n",
    "model.add(Embedding(voc_size,dimension,input_length=sent_length))\n",
    "model.add(Bidirectional(LSTM(100)))\n",
    "model.add(Dense(1,activation='sigmoid'))\n",
    "\n",
    "model.compile(loss='categorical_crossentropy',optimizer='adam',metrics=['accuracy'])\n",
    "model.summary()"
   ]
  },
  {
   "cell_type": "code",
   "execution_count": 21,
   "id": "c6dcac4e",
   "metadata": {},
   "outputs": [],
   "source": [
    "# 21->\n",
    "\n",
    "final_input = np.array(embedded_doc)\n",
    "final_output = np.array(y)"
   ]
  },
  {
   "cell_type": "code",
   "execution_count": 22,
   "id": "7f628559",
   "metadata": {},
   "outputs": [],
   "source": [
    "# 22->\n",
    "\n",
    "# Import train_test_split\n",
    "from sklearn.model_selection import train_test_split\n",
    "# Split into train and test data\n",
    "x_train, x_test, y_train, y_test = train_test_split(final_input, final_output, test_size=0.33, random_state=42)"
   ]
  },
  {
   "cell_type": "code",
   "execution_count": 23,
   "id": "5ea3090a",
   "metadata": {},
   "outputs": [
    {
     "name": "stdout",
     "output_type": "stream",
     "text": [
      "Epoch 1/6\n",
      "42/42 [==============================] - 9s 98ms/step - loss: 0.0000e+00 - accuracy: 0.1217 - val_loss: 0.0000e+00 - val_accuracy: 0.1203\n",
      "Epoch 2/6\n",
      "42/42 [==============================] - 3s 59ms/step - loss: 0.0000e+00 - accuracy: 0.1215 - val_loss: 0.0000e+00 - val_accuracy: 0.1203\n",
      "Epoch 3/6\n",
      "42/42 [==============================] - 3s 63ms/step - loss: 0.0000e+00 - accuracy: 0.1215 - val_loss: 0.0000e+00 - val_accuracy: 0.1203\n",
      "Epoch 4/6\n",
      "42/42 [==============================] - 2s 56ms/step - loss: 0.0000e+00 - accuracy: 0.1215 - val_loss: 0.0000e+00 - val_accuracy: 0.1203\n",
      "Epoch 5/6\n",
      "42/42 [==============================] - 2s 56ms/step - loss: 0.0000e+00 - accuracy: 0.1215 - val_loss: 0.0000e+00 - val_accuracy: 0.1203\n",
      "Epoch 6/6\n",
      "42/42 [==============================] - 2s 53ms/step - loss: 0.0000e+00 - accuracy: 0.1215 - val_loss: 0.0000e+00 - val_accuracy: 0.1203\n"
     ]
    }
   ],
   "source": [
    "# 23->\n",
    "\n",
    "# Set batch size\n",
    "batch_size = 256\n",
    "# Set number of epochs\n",
    "epochs = 6\n",
    "# Fit the model on train data\n",
    "hist = model.fit(x_train, y_train, \n",
    "                 batch_size=batch_size,\n",
    "                 epochs=epochs,\n",
    "                 validation_data=(x_test,y_test))"
   ]
  },
  {
   "cell_type": "code",
   "execution_count": 24,
   "id": "1ce5a9f9",
   "metadata": {},
   "outputs": [
    {
     "name": "stdout",
     "output_type": "stream",
     "text": [
      "Epoch 1/6\n",
      "42/42 [==============================] - 2s 50ms/step - loss: 0.0000e+00 - accuracy: 0.1215 - val_loss: 0.0000e+00 - val_accuracy: 0.1203\n",
      "Epoch 2/6\n",
      "42/42 [==============================] - 2s 53ms/step - loss: 0.0000e+00 - accuracy: 0.1215 - val_loss: 0.0000e+00 - val_accuracy: 0.1203\n",
      "Epoch 3/6\n",
      "42/42 [==============================] - 2s 54ms/step - loss: 0.0000e+00 - accuracy: 0.1215 - val_loss: 0.0000e+00 - val_accuracy: 0.1203\n",
      "Epoch 4/6\n",
      "42/42 [==============================] - 2s 53ms/step - loss: 0.0000e+00 - accuracy: 0.1215 - val_loss: 0.0000e+00 - val_accuracy: 0.1203\n",
      "Epoch 5/6\n",
      "42/42 [==============================] - 2s 54ms/step - loss: 0.0000e+00 - accuracy: 0.1215 - val_loss: 0.0000e+00 - val_accuracy: 0.1203\n",
      "Epoch 6/6\n",
      "42/42 [==============================] - 2s 59ms/step - loss: 0.0000e+00 - accuracy: 0.1215 - val_loss: 0.0000e+00 - val_accuracy: 0.1203\n"
     ]
    }
   ],
   "source": [
    "# 24->\n",
    "\n",
    "# Re-running the model for additional 6 epochs\n",
    "hist = model.fit(x_train, y_train, \n",
    "                 batch_size=batch_size,\n",
    "                 epochs=epochs,\n",
    "                 validation_data=(x_test,y_test))"
   ]
  },
  {
   "cell_type": "code",
   "execution_count": 25,
   "id": "a0cc1c02",
   "metadata": {},
   "outputs": [],
   "source": [
    "# 25->\n",
    "\n",
    "def suicide_avoider(x):\n",
    "  ps=PorterStemmer()\n",
    "  corpus=[]\n",
    "  review=re.sub('[^a-zA-Z]',' ',x)\n",
    "  review=review.lower()\n",
    "  review=review.split()\n",
    "\n",
    "  review=[ps.stem(word) for word in review if not word in stopwords.words('english')]\n",
    "  review=' '.join(review)\n",
    "  corpus.append(review)\n",
    "\n",
    "\n",
    "  voc_size = 5000\n",
    "  one_hot_r = [one_hot(word,voc_size) for word in corpus]\n",
    "\n",
    "  max_length = 20\n",
    "  embedded_docs = pad_sequences(one_hot_r,max_length,padding='pre')\n",
    "\n",
    "  dimension = 40\n",
    "  model = Sequential()\n",
    "  model.add(Embedding(voc_size,dimension,input_length=max_length))\n",
    "  model.add(Bidirectional(LSTM(100)))\n",
    "  model.add(Dense(1,activation='softmax'))\n",
    "  model.compile(loss = 'categorical_crossentropy',optimizer = 'adam' , metrics = ['accuracy'])\n",
    "  prediction= model.predict(np.array(embedded_docs))\n",
    "  if prediction.all() ==0:\n",
    "    print(\"person is angry\")\n",
    "  elif prediction.all() ==1:\n",
    "    print(\"person is in fear\")\n",
    "  elif prediction.all() ==2:\n",
    "    print(\"person is in joy\")\n",
    "  elif prediction.all() ==3:\n",
    "    print(\"person is in love\")\n",
    "  elif prediction.all() ==4:\n",
    "    print(\"person is sad\")\n",
    "  else:\n",
    "    print(\"person is surprise\")"
   ]
  },
  {
   "cell_type": "code",
   "execution_count": 26,
   "id": "ae4f355c",
   "metadata": {},
   "outputs": [
    {
     "name": "stdout",
     "output_type": "stream",
     "text": [
      "Enter sentence: Will I get a job?\n",
      "1/1 [==============================] - 1s 1s/step\n",
      "person is in fear\n"
     ]
    }
   ],
   "source": [
    "# 26->\n",
    "\n",
    "x = str(input('Enter sentence: '))\n",
    "suicide_avoider(x)"
   ]
  }
 ],
 "metadata": {
  "kernelspec": {
   "display_name": "Python 3 (ipykernel)",
   "language": "python",
   "name": "python3"
  },
  "language_info": {
   "codemirror_mode": {
    "name": "ipython",
    "version": 3
   },
   "file_extension": ".py",
   "mimetype": "text/x-python",
   "name": "python",
   "nbconvert_exporter": "python",
   "pygments_lexer": "ipython3",
   "version": "3.9.12"
  },
  "vscode": {
   "interpreter": {
    "hash": "ad2bdc8ecc057115af97d19610ffacc2b4e99fae6737bb82f5d7fb13d2f2c186"
   }
  }
 },
 "nbformat": 4,
 "nbformat_minor": 5
}
